{
  "cells": [
    {
      "metadata": {
        "trusted": true
      },
      "cell_type": "code",
      "source": "can=\"john cena\" \n#The upper() function returns a string with letters in uppercased form. \nprint ('Output1=',can.upper())\n\n\ncan=\"John Cena \" \n#The lower() function returns a string with letters in lowercased form. \nprint ('Output2=', can.lower())\n\n\ncan=\"these +,-,/,* are an operators\" \n#The capitalize() function returns a string with first letter capitalized and all other characters lowercased. \nprint ('Output3=', can.capitalize())\n\n\ncan=\"these +,-,/,* are an operators\" \nprint ('Output4a=', can.center(50))\nprint ('Output4b=',can.center(60,'#'))\n\n\ncan=\"THESE +,-,/,* ARE AN OPERTORS\" \n#The casefold() function returns a string with letters in lowercased form.\nprint ('Output5=', can.casefold())\n\n\ncan=\"john cena\" \n#The title() function returns a string with first letter of each word in uppercased form.\nprint ('Output6=', can.title())\n\n\ncan=\"THESE +,-,/,* ARE AN OPERTORS 5 5 \" \n#The isnumeric() function returns a TRUE if all characters are numeric and returns FALSE if any on is not numeric.\nprint ('Output7a=', can.isnumeric()) \ncan1=\"12345665664654\"\nprint ('Output7b=',can1.isnumeric()) \n\n\ncan=\"I am a student of AI.\" \n#The endswith() function returns a TRUE if string ends with same words and returns FALSE if string ends with different words.\nprint ('Output8a=', can.endswith(\"of AI.\")) \ncan=\"I am a student of AI.\"\nprint ('Output8b=', can.endswith(\"of AI\")) \ncan=\"I am a student of AI.\"\nprint ('Output8c=', can.endswith(\"I am a student of AI.\")) \n\n\ncan=\"I am a student of AI.\" \n#The startswith() function returns a TRUE if string ends with same words and returns FALSE if string ends with different words.\nprint ('Output9a=', can.startswith(\"I am a\")) \ncan=\"I am a student of AI.\"\nprint ('Output9b=', can.startswith(\"I am a.\")) \ncan=\"I am a student of AI.\"\nprint ('Output9c=', can.startswith(\"I am a student of AI.\")) \n\n\ncan=\"THESE\\tARE\\tAN\\tOPERTORS\" \n#The expandtabs() returns a string where all '\\t' characters are replaced with whitespace characters until the next multiple of tabsize parameter.\nprint ('Output10=', can.expandtabs())\n\n  \nstring =[1, 2, 3, 4]\nprint('output11=',string)\nprint('output11=', len(string)) \n#Return the number of items in a container.\n\n\nstring =\"          abc        \" \n#remove white spaces\nprint('Output12=',string.strip())\n\n\nstring =\"abc\" \nprint('output13=', string.replace(\"a\",\"n\"))\n#replaces a string with another string:\n\n\nstring=\"hello, i am ,student piaic \"\nprint('output14=',string.split(\",\")) \n# splits the string into substrings if it finds instances of the separator\n\n\nstring=\"hello, i am ,student\"\nprint('output15=',string.split(\" \"))\n# splits the string into substrings if it finds instances of the separator\n\n\nstring = \"i am a student\"\nprint('output16=',string.count(\"i\")) \n#returns number of occurence of a character or string\n\n\nprint('output17=',string.encode())\n#encode the string( the sequence of code points are converted into set of bytes)\n\n\nprint('output18=',string.endswith(\"ent\") )\n#Return True if String ends with the specified suffix, False otherwise.\n\n\nstring=\"abc\\txyz\\ta\"\nprint('output19=',string.expandtabs(10) )\n#returns a string where all '\\t' characters are replaced with whitespace default size is 8\n\n\nstring=\"student of PIAIC AI\"\nprint('output20=',string.find(\"PIA\")  )\n#returns lowest index in String where substring sub is fou\n\n\nquantity = 3\nitemno = 567\nprice = 49\nmyorder = \"I want {} pieces of item {} for {} dollars.\"\nprint('output21=',myorder.format(quantity, itemno, price))  \n #takes unlimited number of arguments, and are placed into the respective placeholders:\n\n    \nquantity = 3\nitemno = 567\nprice = 49.95\nmyorder = \"I want {2} pieces of item {0} for {1} dollars.\"\nprint('output22=',myorder.format(quantity, itemno, price))  \n #takes unlimited number of arguments, and are placed into the respective placeholders:\n\npoint = {'x':4,'y':-5}\nprint('output23=','{x} {y}'.format_map(point))\n#The format_map() method is similar to str.format(**mapping) except that\n#str.format(**mapping) creates a new dictionary whereas str.format_map(mapping) doesn't.\n\n\nstring=\"student of PIAIC AI\"\nprint('output24=',string.index('PIA') ) #Return the lowest index in String where substring is found,\n\n\nprint('output25a=',string.isalnum()) #Return True if the string is an alpha-numeric string, False otherwise.\nstring1=\"abc123\"\nprint('output25b=',string1.isalnum())\n\n\nstring=\"student\"\nprint('output26=',string.isalpha() )#Return True if the string is an alphabetic string, False otherwise.\n\n\nstring=\"student of PIAIC AI\"\nprint('output27=',ascii(string)) #Return True if all characters in the string are ASCII, False otherwise\n\n\nprint('output28a=',string.isdecimal()) #Return True if the string is a decimal string, False otherwise.\nstring1=\"123\"\nprint('output28b=',string1.isdecimal())\n\n\nprint('output29=',string1.isdigit())\n#Return True if the string is a digit string, False otherwise.\n\n\nstring=\"str\"\nprint('output30=',string.isidentifier() )#Return True if the string is a valid Python identifier, False otherwise.\n\n\nstring=\"entrepreneur\"\nprint('output31=',string.islower())  #Return True if the string is a lowercase string, False otherwise.\n\n\nstring=\"ENTREPRENEUR \"\nprint('output32=',string.isupper())  #Return True if the string is an uppercase string, False otherwise.\n\n\nstring=\"1234567\"\nprint('output33=',string.isnumeric() )#Return True if the string is a numeric string, False otherwise.\n\n      \nprint('output34a=',string.isprintable()) #Return True if the string is printable, False otherwise.\nstring1=\"HELLO\\nWORLD\"\nprint('output34b=',string1.isprintable())\n\nprint('output35a=',string.isspace()) #Return True if the string is a whitespace string, False otherwise.\nstring1=\"    \"\nprint('output35b=',string1.isspace())\n\n      \nprint('output36a=',string.istitle())          \n#Check if each word start with an upper case letter:\nstring1=\"Hello Hy, And Welcome To My Home!\"\nprint('output36b=',string1.istitle())\n\n      \nstring1={\"horse\",\"rat\",\"monkey\"}\na=\"0\"\nprint('output37=',a.join(string1))  \n\n\nstring=\"            qwerty\" \nprint('output38=',string.lstrip())  #Returns a left trim version of the string\n\n\nstring=\"i am a student of PIAIC AI\"\nprint('output39=',string.partition(\"student\") )  #Returns a tuple where the string is parted into three parts\n\n\n\nprint('output40=',string.rfind('stu')) #Searches the string for a      \n",
      "execution_count": 49,
      "outputs": [
        {
          "output_type": "stream",
          "text": "Output1= JOHN CENA\nOutput2= john cena \nOutput3= These +,-,/,* are an operators\nOutput4a=           these +,-,/,* are an operators          \nOutput4b= ###############these +,-,/,* are an operators###############\nOutput5= these +,-,/,* are an opertors\nOutput6= John Cena\nOutput7a= False\nOutput7b= True\nOutput8a= True\nOutput8b= False\nOutput8c= True\nOutput9a= True\nOutput9b= False\nOutput9c= True\nOutput10= THESE   ARE     AN      OPERTORS\noutput11= [1, 2, 3, 4]\noutput11= 4\nOutput12= abc\noutput13= nbc\noutput14= ['hello', ' i am ', 'student piaic ']\noutput15= ['hello,', 'i', 'am', ',student']\noutput16= 1\noutput17= b'i am a student'\noutput18= True\noutput19= abc       xyz       a\noutput20= 11\noutput21= I want 3 pieces of item 567 for 49 dollars.\noutput22= I want 49.95 pieces of item 3 for 567 dollars.\noutput23= 4 -5\noutput24= 11\noutput25a= False\noutput25b= True\noutput26= True\noutput27= 'student of PIAIC AI'\noutput28a= False\noutput28b= True\noutput29= True\noutput30= True\noutput31= True\noutput32= True\noutput33= True\noutput34a= True\noutput34b= False\noutput35a= False\noutput35b= True\noutput36a= False\noutput36b= True\noutput37= horse0rat0monkey\noutput38= qwerty\noutput39= ('i am a ', 'student', ' of PIAIC AI')\noutput40= 7\n",
          "name": "stdout"
        }
      ]
    },
    {
      "metadata": {
        "trusted": true
      },
      "cell_type": "code",
      "source": "",
      "execution_count": null,
      "outputs": []
    }
  ],
  "metadata": {
    "kernelspec": {
      "name": "python36",
      "display_name": "Python 3.6",
      "language": "python"
    },
    "language_info": {
      "mimetype": "text/x-python",
      "nbconvert_exporter": "python",
      "name": "python",
      "pygments_lexer": "ipython3",
      "version": "3.6.6",
      "file_extension": ".py",
      "codemirror_mode": {
        "version": 3,
        "name": "ipython"
      }
    }
  },
  "nbformat": 4,
  "nbformat_minor": 2
}